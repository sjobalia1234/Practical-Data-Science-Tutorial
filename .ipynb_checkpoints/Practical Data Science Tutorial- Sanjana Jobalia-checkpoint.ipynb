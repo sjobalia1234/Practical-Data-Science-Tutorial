{
 "cells": [
  {
   "cell_type": "markdown",
   "metadata": {},
   "source": [
    "# Tutorial: Predicting the next winning team in IPL 2021\n",
    "## I'm just finishing up the second part of the tutorial, please dont grade this yet. I will have this done by Sunday night and by monday you will have the most updated version\n",
    "\n",
    "### Things you will learn:\n",
    "1. Installing Libraries and Loading datasets\n",
    "2. Data collection\n",
    "3. Data preprocessing\n",
    "4. Feature Engineering\n",
    "5. Implementing an ML Model\n",
    "6. Training the model\n",
    "7. Predicting output\n",
    "8. Visualizing output\n",
    "\n",
    "### ---\n",
    "\n",
    "### Motivation\n",
    "As a machine learning student, I always struggled to understand the purpose of machine learning models until I was able to apply them to real world situations. I want this tutorial to be an easy gateway for students who want a sneak peak into the life of a data scientist and want to understand how to implement a machine learning model on actual data. This tutorial will be a fun introduction to linear regression and will help students feel equipped to answer simple data questions using libraries like pandas, numpy, skikit-learn etc. P.S If you like cricket, you're in luck, because we are going to be predicting who is most likely to win the 2021 Indian Premiere League Championship which is beginning in just a few days!\n",
    "\n",
    " \n",
    "### Background\n",
    "There are multiple datasets that we will use for this tutorial. All of these datasets can be found on my github page and can be downloaded as csv files. When you run this tutorial, you can simply press upload on the jupyter homepage or drag and drop the downloaded files to the homepage. Here is the link:\n",
    "\n",
    "In machine learning, data is everything. Usually, we have different columns that have different information about various entries in the dataset. These columns are known as features of a particular data point. For example, for each team, we could have the numbers of runs scored in each match, their best player, the numbers of matches won, lost etc.\n",
    "\n",
    "Unfortunately, there is no single dataset that has all this information. We will be creating a dataset with the information from other datasets. Once we create our dataset, we will separate them into a validation and training dataset.\n",
    "\n",
    "**Training Dataset:** We use these datapoints so that our model can learn\n",
    "\n",
    "**Validation Dataset:** In the case that we have any hyper parameters that are self-decided, we will use our validation dataset to see which values of this parameter is optimal. \n",
    "\n",
    "We will then use this model on a test output, which will be the 2021 IPL Matches and predict.\n",
    "\n",
    "\n",
    "### Getting Started\n",
    "We have to import all the required libraries, In case you haven't installed these libraries, you can install them using the pip install - command."
   ]
  },
  {
   "cell_type": "code",
   "execution_count": 9,
   "metadata": {},
   "outputs": [],
   "source": [
    "#Delete the ones that you don't end up using\n",
    "import collections\n",
    "import string\n",
    "import numpy as np\n",
    "import sklearn\n",
    "import sklearn.feature_extraction\n",
    "import sklearn.svm\n",
    "import sklearn.metrics\n",
    "import gzip\n",
    "import re\n",
    "import matplotlib.pyplot as plt\n",
    "import pandas as pd\n",
    "import csv"
   ]
  },
  {
   "cell_type": "markdown",
   "metadata": {},
   "source": [
    "In order to get a feel of our first dataset, and understand what we are working with, lets load it using the pd.read_csv() function, which will return a pandas dataframe. Then, we will get a little information about its shape, find out what the column headers are and print out a couple rows"
   ]
  },
  {
   "cell_type": "code",
   "execution_count": 10,
   "metadata": {},
   "outputs": [
    {
     "name": "stdout",
     "output_type": "stream",
     "text": [
      "This is a list of column names\n",
      "['id', 'city', 'date', 'player_of_match', 'venue', 'neutral_venue', 'team1', 'team2', 'toss_winner', 'toss_decision', 'winner', 'result', 'result_margin', 'eliminator', 'method', 'umpire1', 'umpire2']\n",
      "These are the dimensions\n",
      "(816, 17)\n"
     ]
    },
    {
     "data": {
      "text/html": [
       "<div>\n",
       "<style scoped>\n",
       "    .dataframe tbody tr th:only-of-type {\n",
       "        vertical-align: middle;\n",
       "    }\n",
       "\n",
       "    .dataframe tbody tr th {\n",
       "        vertical-align: top;\n",
       "    }\n",
       "\n",
       "    .dataframe thead th {\n",
       "        text-align: right;\n",
       "    }\n",
       "</style>\n",
       "<table border=\"1\" class=\"dataframe\">\n",
       "  <thead>\n",
       "    <tr style=\"text-align: right;\">\n",
       "      <th></th>\n",
       "      <th>id</th>\n",
       "      <th>city</th>\n",
       "      <th>date</th>\n",
       "      <th>player_of_match</th>\n",
       "      <th>venue</th>\n",
       "      <th>neutral_venue</th>\n",
       "      <th>team1</th>\n",
       "      <th>team2</th>\n",
       "      <th>toss_winner</th>\n",
       "      <th>toss_decision</th>\n",
       "      <th>winner</th>\n",
       "      <th>result</th>\n",
       "      <th>result_margin</th>\n",
       "      <th>eliminator</th>\n",
       "      <th>method</th>\n",
       "      <th>umpire1</th>\n",
       "      <th>umpire2</th>\n",
       "    </tr>\n",
       "  </thead>\n",
       "  <tbody>\n",
       "    <tr>\n",
       "      <th>0</th>\n",
       "      <td>335982</td>\n",
       "      <td>Bangalore</td>\n",
       "      <td>2008-04-18</td>\n",
       "      <td>BB McCullum</td>\n",
       "      <td>M Chinnaswamy Stadium</td>\n",
       "      <td>0</td>\n",
       "      <td>Royal Challengers Bangalore</td>\n",
       "      <td>Kolkata Knight Riders</td>\n",
       "      <td>Royal Challengers Bangalore</td>\n",
       "      <td>field</td>\n",
       "      <td>Kolkata Knight Riders</td>\n",
       "      <td>runs</td>\n",
       "      <td>140.0</td>\n",
       "      <td>N</td>\n",
       "      <td>NaN</td>\n",
       "      <td>Asad Rauf</td>\n",
       "      <td>RE Koertzen</td>\n",
       "    </tr>\n",
       "    <tr>\n",
       "      <th>1</th>\n",
       "      <td>335983</td>\n",
       "      <td>Chandigarh</td>\n",
       "      <td>2008-04-19</td>\n",
       "      <td>MEK Hussey</td>\n",
       "      <td>Punjab Cricket Association Stadium, Mohali</td>\n",
       "      <td>0</td>\n",
       "      <td>Kings XI Punjab</td>\n",
       "      <td>Chennai Super Kings</td>\n",
       "      <td>Chennai Super Kings</td>\n",
       "      <td>bat</td>\n",
       "      <td>Chennai Super Kings</td>\n",
       "      <td>runs</td>\n",
       "      <td>33.0</td>\n",
       "      <td>N</td>\n",
       "      <td>NaN</td>\n",
       "      <td>MR Benson</td>\n",
       "      <td>SL Shastri</td>\n",
       "    </tr>\n",
       "    <tr>\n",
       "      <th>2</th>\n",
       "      <td>335984</td>\n",
       "      <td>Delhi</td>\n",
       "      <td>2008-04-19</td>\n",
       "      <td>MF Maharoof</td>\n",
       "      <td>Feroz Shah Kotla</td>\n",
       "      <td>0</td>\n",
       "      <td>Delhi Daredevils</td>\n",
       "      <td>Rajasthan Royals</td>\n",
       "      <td>Rajasthan Royals</td>\n",
       "      <td>bat</td>\n",
       "      <td>Delhi Daredevils</td>\n",
       "      <td>wickets</td>\n",
       "      <td>9.0</td>\n",
       "      <td>N</td>\n",
       "      <td>NaN</td>\n",
       "      <td>Aleem Dar</td>\n",
       "      <td>GA Pratapkumar</td>\n",
       "    </tr>\n",
       "    <tr>\n",
       "      <th>3</th>\n",
       "      <td>335985</td>\n",
       "      <td>Mumbai</td>\n",
       "      <td>2008-04-20</td>\n",
       "      <td>MV Boucher</td>\n",
       "      <td>Wankhede Stadium</td>\n",
       "      <td>0</td>\n",
       "      <td>Mumbai Indians</td>\n",
       "      <td>Royal Challengers Bangalore</td>\n",
       "      <td>Mumbai Indians</td>\n",
       "      <td>bat</td>\n",
       "      <td>Royal Challengers Bangalore</td>\n",
       "      <td>wickets</td>\n",
       "      <td>5.0</td>\n",
       "      <td>N</td>\n",
       "      <td>NaN</td>\n",
       "      <td>SJ Davis</td>\n",
       "      <td>DJ Harper</td>\n",
       "    </tr>\n",
       "    <tr>\n",
       "      <th>4</th>\n",
       "      <td>335986</td>\n",
       "      <td>Kolkata</td>\n",
       "      <td>2008-04-20</td>\n",
       "      <td>DJ Hussey</td>\n",
       "      <td>Eden Gardens</td>\n",
       "      <td>0</td>\n",
       "      <td>Kolkata Knight Riders</td>\n",
       "      <td>Deccan Chargers</td>\n",
       "      <td>Deccan Chargers</td>\n",
       "      <td>bat</td>\n",
       "      <td>Kolkata Knight Riders</td>\n",
       "      <td>wickets</td>\n",
       "      <td>5.0</td>\n",
       "      <td>N</td>\n",
       "      <td>NaN</td>\n",
       "      <td>BF Bowden</td>\n",
       "      <td>K Hariharan</td>\n",
       "    </tr>\n",
       "  </tbody>\n",
       "</table>\n",
       "</div>"
      ],
      "text/plain": [
       "       id        city        date player_of_match  \\\n",
       "0  335982   Bangalore  2008-04-18     BB McCullum   \n",
       "1  335983  Chandigarh  2008-04-19      MEK Hussey   \n",
       "2  335984       Delhi  2008-04-19     MF Maharoof   \n",
       "3  335985      Mumbai  2008-04-20      MV Boucher   \n",
       "4  335986     Kolkata  2008-04-20       DJ Hussey   \n",
       "\n",
       "                                        venue  neutral_venue  \\\n",
       "0                       M Chinnaswamy Stadium              0   \n",
       "1  Punjab Cricket Association Stadium, Mohali              0   \n",
       "2                            Feroz Shah Kotla              0   \n",
       "3                            Wankhede Stadium              0   \n",
       "4                                Eden Gardens              0   \n",
       "\n",
       "                         team1                        team2  \\\n",
       "0  Royal Challengers Bangalore        Kolkata Knight Riders   \n",
       "1              Kings XI Punjab          Chennai Super Kings   \n",
       "2             Delhi Daredevils             Rajasthan Royals   \n",
       "3               Mumbai Indians  Royal Challengers Bangalore   \n",
       "4        Kolkata Knight Riders              Deccan Chargers   \n",
       "\n",
       "                   toss_winner toss_decision                       winner  \\\n",
       "0  Royal Challengers Bangalore         field        Kolkata Knight Riders   \n",
       "1          Chennai Super Kings           bat          Chennai Super Kings   \n",
       "2             Rajasthan Royals           bat             Delhi Daredevils   \n",
       "3               Mumbai Indians           bat  Royal Challengers Bangalore   \n",
       "4              Deccan Chargers           bat        Kolkata Knight Riders   \n",
       "\n",
       "    result  result_margin eliminator method    umpire1         umpire2  \n",
       "0     runs          140.0          N    NaN  Asad Rauf     RE Koertzen  \n",
       "1     runs           33.0          N    NaN  MR Benson      SL Shastri  \n",
       "2  wickets            9.0          N    NaN  Aleem Dar  GA Pratapkumar  \n",
       "3  wickets            5.0          N    NaN   SJ Davis       DJ Harper  \n",
       "4  wickets            5.0          N    NaN  BF Bowden     K Hariharan  "
      ]
     },
     "execution_count": 10,
     "metadata": {},
     "output_type": "execute_result"
    }
   ],
   "source": [
    "df = pd.read_csv(\"IPL.csv\")\n",
    "print(\"This is a list of column names\")\n",
    "print (list(df.columns))\n",
    "print(\"These are the dimensions\")\n",
    "print (df.shape)\n",
    "df.head()"
   ]
  },
  {
   "cell_type": "markdown",
   "metadata": {},
   "source": [
    "Conclusions: So, there are 816 matches that have taken place between 2008 and 2020. There are also 17 columns in this particular dataset."
   ]
  },
  {
   "cell_type": "markdown",
   "metadata": {},
   "source": [
    "We would also want to visualize the data in some shape or form. For starters, why don't we make a bar chart on how many games each team has won."
   ]
  },
  {
   "cell_type": "code",
   "execution_count": 25,
   "metadata": {},
   "outputs": [
    {
     "name": "stdout",
     "output_type": "stream",
     "text": [
      "winner\n",
      "Chennai Super Kings            106\n",
      "Deccan Chargers                 29\n",
      "Delhi Capitals                  19\n",
      "Delhi Daredevils                67\n",
      "Gujarat Lions                   13\n",
      "Kings XI Punjab                 88\n",
      "Kochi Tuskers Kerala             6\n",
      "Kolkata Knight Riders           99\n",
      "Mumbai Indians                 120\n",
      "Pune Warriors                   12\n",
      "Rajasthan Royals                81\n",
      "Rising Pune Supergiant          10\n",
      "Rising Pune Supergiants          5\n",
      "Royal Challengers Bangalore     91\n",
      "Sunrisers Hyderabad             66\n",
      "Name: count, dtype: int64\n"
     ]
    },
    {
     "data": {
      "text/plain": [
       "Text(0.5, 0, 'Teams')"
      ]
     },
     "execution_count": 25,
     "metadata": {},
     "output_type": "execute_result"
    },
    {
     "data": {
      "image/png": "[encoded data removed]",
      "text/plain": [
       "<Figure size 432x288 with 1 Axes>"
      ]
     },
     "metadata": {
      "needs_background": "light"
     },
     "output_type": "display_data"
    }
   ],
   "source": [
    "#Add comments so that people can understand what is going on, \n",
    "#but only do that after you write the actual code\n",
    "\n",
    "rows = 816\n",
    "count = [1]*rows\n",
    "df[\"count\"] = count\n",
    "new_df = df.groupby(\"winner\").count()[\"count\"]\n",
    "#new_df = new_df.to_frame()\n",
    "print(new_df)\n",
    "new_df.plot.bar()\n",
    "plt.ylabel('Wins')\n",
    "plt.title('Number of wins per team')\n",
    "plt.xlabel(\"Teams\")"
   ]
  },
  {
   "cell_type": "markdown",
   "metadata": {},
   "source": [
    "That wasn't too bad! Now, let's try something a little more difficult to get our feet wet. The deliveries dataset does not have the winner of matches. Instead it has a collection every ball in a singular match. First, let's inspect what we are working with."
   ]
  },
  {
   "cell_type": "code",
   "execution_count": 43,
   "metadata": {},
   "outputs": [
    {
     "name": "stdout",
     "output_type": "stream",
     "text": [
      "(756,)\n"
     ]
    }
   ],
   "source": [
    "deliveries = pd.read_csv(\"deliveries.csv\")\n",
    "deliveries.head()\n",
    "unique_matches = deliveries[\"match_id\"].unique()\n",
    "print(unique_matches.shape)"
   ]
  },
  {
   "cell_type": "code",
   "execution_count": 89,
   "metadata": {},
   "outputs": [
    {
     "ename": "ValueError",
     "evalue": "The truth value of a Series is ambiguous. Use a.empty, a.bool(), a.item(), a.any() or a.all().",
     "output_type": "error",
     "traceback": [
      "\u001b[0;31m---------------------------------------------------------------------------\u001b[0m",
      "\u001b[0;31mValueError\u001b[0m                                Traceback (most recent call last)",
      "\u001b[0;32m<ipython-input-89-763ef35b2b2f>\u001b[0m in \u001b[0;36m<module>\u001b[0;34m\u001b[0m\n\u001b[1;32m     24\u001b[0m             \u001b[0mruns\u001b[0m \u001b[0;34m=\u001b[0m \u001b[0mfirst\u001b[0m\u001b[0;34m\u001b[0m\u001b[0;34m\u001b[0m\u001b[0m\n\u001b[1;32m     25\u001b[0m         \u001b[0;32melse\u001b[0m\u001b[0;34m:\u001b[0m\u001b[0;34m\u001b[0m\u001b[0;34m\u001b[0m\u001b[0m\n\u001b[0;32m---> 26\u001b[0;31m             \u001b[0mteam\u001b[0m \u001b[0;34m=\u001b[0m \u001b[0mdeliveries\u001b[0m\u001b[0;34m[\u001b[0m\u001b[0;34m'batting_team'\u001b[0m\u001b[0;34m]\u001b[0m\u001b[0;34m.\u001b[0m\u001b[0mwhere\u001b[0m\u001b[0;34m(\u001b[0m\u001b[0mdeliveries\u001b[0m\u001b[0;34m[\u001b[0m\u001b[0;34m'match_id'\u001b[0m\u001b[0;34m]\u001b[0m \u001b[0;34m==\u001b[0m \u001b[0mmatch_id\u001b[0m \u001b[0;34m&\u001b[0m \u001b[0mdeliveries\u001b[0m\u001b[0;34m[\u001b[0m\u001b[0;34m'inning'\u001b[0m\u001b[0;34m]\u001b[0m \u001b[0;34m==\u001b[0m \u001b[0;36m2\u001b[0m\u001b[0;34m)\u001b[0m\u001b[0;34m\u001b[0m\u001b[0;34m\u001b[0m\u001b[0m\n\u001b[0m\u001b[1;32m     27\u001b[0m             \u001b[0mruns\u001b[0m \u001b[0;34m=\u001b[0m \u001b[0msecond\u001b[0m\u001b[0;34m\u001b[0m\u001b[0;34m\u001b[0m\u001b[0m\n\u001b[1;32m     28\u001b[0m         \u001b[0mprint\u001b[0m\u001b[0;34m(\u001b[0m\u001b[0;34m\"HI\"\u001b[0m\u001b[0;34m)\u001b[0m\u001b[0;34m\u001b[0m\u001b[0;34m\u001b[0m\u001b[0m\n",
      "\u001b[0;32m~/opt/anaconda3/lib/python3.8/site-packages/pandas/core/generic.py\u001b[0m in \u001b[0;36m__nonzero__\u001b[0;34m(self)\u001b[0m\n\u001b[1;32m   1327\u001b[0m \u001b[0;34m\u001b[0m\u001b[0m\n\u001b[1;32m   1328\u001b[0m     \u001b[0;32mdef\u001b[0m \u001b[0m__nonzero__\u001b[0m\u001b[0;34m(\u001b[0m\u001b[0mself\u001b[0m\u001b[0;34m)\u001b[0m\u001b[0;34m:\u001b[0m\u001b[0;34m\u001b[0m\u001b[0;34m\u001b[0m\u001b[0m\n\u001b[0;32m-> 1329\u001b[0;31m         raise ValueError(\n\u001b[0m\u001b[1;32m   1330\u001b[0m             \u001b[0;34mf\"The truth value of a {type(self).__name__} is ambiguous. \"\u001b[0m\u001b[0;34m\u001b[0m\u001b[0;34m\u001b[0m\u001b[0m\n\u001b[1;32m   1331\u001b[0m             \u001b[0;34m\"Use a.empty, a.bool(), a.item(), a.any() or a.all().\"\u001b[0m\u001b[0;34m\u001b[0m\u001b[0;34m\u001b[0m\u001b[0m\n",
      "\u001b[0;31mValueError\u001b[0m: The truth value of a Series is ambiguous. Use a.empty, a.bool(), a.item(), a.any() or a.all()."
     ]
    }
   ],
   "source": [
    "#We also want to engineer a couple features: Number of runs in each match, man of the match run rate etc\n",
    "\n",
    "innings = deliveries.groupby([\"match_id\", \"inning\"]).sum()\n",
    "runs = innings[\"total_runs\"] #Figure out how to do this\n",
    "\n",
    "#print(runs)\n",
    "#Okay so what I want to do is iterate through every match and for everymatch, \n",
    "#depending on the innings, add the total runs to a particular team\n",
    "match_id = 1\n",
    "inning_num = 1\n",
    "team_total_runs = {}\n",
    "#Think about what you're going to do\n",
    "#print(list(deliveries.columns))\n",
    "\n",
    "for index, inning_runs in runs.iteritems():\n",
    "    #print(inning_runs)\n",
    "    first, second = 0,0\n",
    "    if(inning_num % 2 == 0):\n",
    "        second = inning_runs\n",
    "        if(first>second):\n",
    "            #Figure out how to use this\n",
    "            team = deliveries['batting_team'].where(deliveries['match_id'] == match_id & deliveries['inning'] == 1)\n",
    "            print(\"first\", team)\n",
    "            runs = first\n",
    "        else:\n",
    "            team = deliveries['batting_team'].where(deliveries['match_id'] == match_id & deliveries['inning'] == 2)\n",
    "            runs = second\n",
    "        print(\"HI\")\n",
    "        if(team in team_total_runs):\n",
    "            team_total_runs[team] += runs\n",
    "        else:\n",
    "            #Should never reach here\n",
    "            team_total_runs[team] += 0\n",
    "            \n",
    "        match_id += 1\n",
    "    else:\n",
    "        first = inning_runs\n",
    "    inning_num += 1\n",
    "    #['match_id'] == 1).head(20)\n",
    "\n",
    "print(team_total_runs)\n",
    "    \n",
    "#After you print this dictionary, use it to create a bar chart\n",
    "#and display everything\n",
    "\n",
    "#I want to make another bar chart that charts the total runs made y each team\n",
    "#And then, using matches, I want to see each teams trajectory over the years.\n",
    "\n",
    "runs.head()\n",
    "#innings = matches.groupby(\"inning\")\n",
    "#innings\n",
    "\n",
    "#Now move onto data preprocessing, similar to Nikhil\n",
    "#Now, move on to feature engineering:"
   ]
  },
  {
   "cell_type": "code",
   "execution_count": null,
   "metadata": {},
   "outputs": [],
   "source": []
  }
 ],
 "metadata": {
  "kernelspec": {
   "display_name": "Python 3",
   "language": "python",
   "name": "python3"
  },
  "language_info": {
   "codemirror_mode": {
    "name": "ipython",
    "version": 3
   },
   "file_extension": ".py",
   "mimetype": "text/x-python",
   "name": "python",
   "nbconvert_exporter": "python",
   "pygments_lexer": "ipython3",
   "version": "3.8.5"
  }
 },
 "nbformat": 4,
 "nbformat_minor": 4
}
